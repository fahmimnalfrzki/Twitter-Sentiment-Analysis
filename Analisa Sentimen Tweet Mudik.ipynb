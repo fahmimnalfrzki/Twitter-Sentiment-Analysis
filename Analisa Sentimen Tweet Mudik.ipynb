{
 "cells": [
  {
   "cell_type": "code",
   "execution_count": 1,
   "metadata": {},
   "outputs": [
    {
     "name": "stderr",
     "output_type": "stream",
     "text": [
      "[nltk_data] Downloading package punkt to\n",
      "[nltk_data]     C:\\Users\\ASUS\\AppData\\Roaming\\nltk_data...\n",
      "[nltk_data]   Package punkt is already up-to-date!\n",
      "[nltk_data] Downloading package stopwords to\n",
      "[nltk_data]     C:\\Users\\ASUS\\AppData\\Roaming\\nltk_data...\n",
      "[nltk_data]   Package stopwords is already up-to-date!\n"
     ]
    },
    {
     "data": {
      "text/plain": [
       "True"
      ]
     },
     "execution_count": 1,
     "metadata": {},
     "output_type": "execute_result"
    }
   ],
   "source": [
    "import pandas as pd #Mengolah data seperti excel\n",
    "import tweepy #Diinstal dulu di anaconda prompt dengan run-> pip install tweepy\n",
    "import nltk\n",
    "import re\n",
    "from nltk.tokenize import sent_tokenize, word_tokenize #Mengubah kata menjadi angka\n",
    "import matplotlib.pyplot as pl\n",
    "from sklearn.feature_extraction.text import CountVectorizer #Menghitung frekuensi kata yang muncul di suatu data\n",
    "from sklearn.feature_extraction.text import TfidfTransformer #Pembobotan frekuensi masing-masing kata\n",
    "from sklearn.model_selection import train_test_split\n",
    "from sklearn.model_selection import GridSearchCV\n",
    "from sklearn.svm import SVC\n",
    "from sklearn.metrics import classification_report, accuracy_score\n",
    "\n",
    "nltk.download('punkt')\n",
    "nltk.download('stopwords')"
   ]
  },
  {
   "cell_type": "markdown",
   "metadata": {},
   "source": [
    "Training data digunakan data labeling twitter bahasa Indonesia yang dibuat oleh tim riset UGM http://ridi.staff.ugm.ac.id/2019/03/06/indonesia-sentiment-analysis-dataset/"
   ]
  },
  {
   "cell_type": "code",
   "execution_count": 3,
   "metadata": {},
   "outputs": [
    {
     "data": {
      "text/html": [
       "<div>\n",
       "<style scoped>\n",
       "    .dataframe tbody tr th:only-of-type {\n",
       "        vertical-align: middle;\n",
       "    }\n",
       "\n",
       "    .dataframe tbody tr th {\n",
       "        vertical-align: top;\n",
       "    }\n",
       "\n",
       "    .dataframe thead th {\n",
       "        text-align: right;\n",
       "    }\n",
       "</style>\n",
       "<table border=\"1\" class=\"dataframe\">\n",
       "  <thead>\n",
       "    <tr style=\"text-align: right;\">\n",
       "      <th></th>\n",
       "      <th>sentimen</th>\n",
       "      <th>Tweet</th>\n",
       "    </tr>\n",
       "  </thead>\n",
       "  <tbody>\n",
       "    <tr>\n",
       "      <th>0</th>\n",
       "      <td>-1</td>\n",
       "      <td>lagu bosan apa yang aku save ni huhuhuhuhuhuhu...</td>\n",
       "    </tr>\n",
       "    <tr>\n",
       "      <th>1</th>\n",
       "      <td>-1</td>\n",
       "      <td>kita lanjutkan saja diam ini hingga kau dan ak...</td>\n",
       "    </tr>\n",
       "    <tr>\n",
       "      <th>2</th>\n",
       "      <td>1</td>\n",
       "      <td>doa rezeki tak putus inna haa zaa larizquna ma...</td>\n",
       "    </tr>\n",
       "    <tr>\n",
       "      <th>3</th>\n",
       "      <td>1</td>\n",
       "      <td>makasih loh ntar kita bagi hasil aku 99 9 sisa...</td>\n",
       "    </tr>\n",
       "    <tr>\n",
       "      <th>4</th>\n",
       "      <td>-1</td>\n",
       "      <td>aku tak faham betul jenis orang malaysia yang ...</td>\n",
       "    </tr>\n",
       "    <tr>\n",
       "      <th>...</th>\n",
       "      <td>...</td>\n",
       "      <td>...</td>\n",
       "    </tr>\n",
       "    <tr>\n",
       "      <th>10801</th>\n",
       "      <td>1</td>\n",
       "      <td>Jangan membandingkan kehidupanmu dengan kehidu...</td>\n",
       "    </tr>\n",
       "    <tr>\n",
       "      <th>10802</th>\n",
       "      <td>0</td>\n",
       "      <td>Sini uname lu ntar gua follow</td>\n",
       "    </tr>\n",
       "    <tr>\n",
       "      <th>10803</th>\n",
       "      <td>1</td>\n",
       "      <td>Apapun yg telah kamu lakukan apapun kesalahanm...</td>\n",
       "    </tr>\n",
       "    <tr>\n",
       "      <th>10804</th>\n",
       "      <td>1</td>\n",
       "      <td>3 cara untuk ingat semula apa yang kita dah ha...</td>\n",
       "    </tr>\n",
       "    <tr>\n",
       "      <th>10805</th>\n",
       "      <td>1</td>\n",
       "      <td>Semoga Allah permudahkan urusan aku amp orang ...</td>\n",
       "    </tr>\n",
       "  </tbody>\n",
       "</table>\n",
       "<p>10806 rows × 2 columns</p>\n",
       "</div>"
      ],
      "text/plain": [
       "       sentimen                                              Tweet\n",
       "0            -1  lagu bosan apa yang aku save ni huhuhuhuhuhuhu...\n",
       "1            -1  kita lanjutkan saja diam ini hingga kau dan ak...\n",
       "2             1  doa rezeki tak putus inna haa zaa larizquna ma...\n",
       "3             1  makasih loh ntar kita bagi hasil aku 99 9 sisa...\n",
       "4            -1  aku tak faham betul jenis orang malaysia yang ...\n",
       "...         ...                                                ...\n",
       "10801         1  Jangan membandingkan kehidupanmu dengan kehidu...\n",
       "10802         0                      Sini uname lu ntar gua follow\n",
       "10803         1  Apapun yg telah kamu lakukan apapun kesalahanm...\n",
       "10804         1  3 cara untuk ingat semula apa yang kita dah ha...\n",
       "10805         1  Semoga Allah permudahkan urusan aku amp orang ...\n",
       "\n",
       "[10806 rows x 2 columns]"
      ]
     },
     "execution_count": 3,
     "metadata": {},
     "output_type": "execute_result"
    }
   ],
   "source": [
    "ugm=pd.read_csv('Indonesian Sentiment Twitter Dataset Labeled.csv',delimiter='\\t')\n",
    "ugm"
   ]
  },
  {
   "cell_type": "code",
   "execution_count": 4,
   "metadata": {},
   "outputs": [
    {
     "data": {
      "text/plain": [
       "<AxesSubplot:>"
      ]
     },
     "execution_count": 4,
     "metadata": {},
     "output_type": "execute_result"
    },
    {
     "data": {
      "image/png": "[encoded data removed]",
      "text/plain": [
       "<Figure size 432x288 with 1 Axes>"
      ]
     },
     "metadata": {
      "needs_background": "light"
     },
     "output_type": "display_data"
    }
   ],
   "source": [
    "ugm.sentimen.replace({0:'netral',-1:'negatif',1:'positif'}).value_counts().plot(kind='bar')"
   ]
  },
  {
   "cell_type": "code",
   "execution_count": 5,
   "metadata": {},
   "outputs": [
    {
     "name": "stderr",
     "output_type": "stream",
     "text": [
      "C:\\ProgramData\\Anaconda3\\lib\\site-packages\\sklearn\\feature_extraction\\text.py:386: UserWarning: Your stop_words may be inconsistent with your preprocessing. Tokenizing the stop words generated tokens ['baiknya', 'berkali', 'kali', 'kurangnya', 'mata', 'olah', 'sekurang', 'setidak', 'tama', 'tidaknya'] not in stop_words.\n",
      "  'stop_words.' % sorted(inconsistent))\n"
     ]
    }
   ],
   "source": [
    "vectorizer = CountVectorizer(max_features=1500, min_df=5, max_df=0.7, stop_words=nltk.corpus.stopwords.words('indonesian')) #Mengubah kata menjadi angka\n",
    "X = vectorizer.fit_transform(ugm['Tweet']).toarray()\n",
    "tfidfconverter = TfidfTransformer() #Pembobotan hasil vectonizer\n",
    "X = tfidfconverter.fit_transform(X).toarray()"
   ]
  },
  {
   "cell_type": "code",
   "execution_count": 6,
   "metadata": {},
   "outputs": [],
   "source": [
    "y=ugm['sentimen']\n",
    "X_train, X_test, y_train, y_test = train_test_split(X, y, test_size=0.2, random_state=42) #Memisahkan data training dan test"
   ]
  },
  {
   "cell_type": "code",
   "execution_count": 7,
   "metadata": {},
   "outputs": [
    {
     "name": "stdout",
     "output_type": "stream",
     "text": [
      "              precision    recall  f1-score   support\n",
      "\n",
      "          -1       0.58      0.40      0.47       560\n",
      "           0       0.62      0.84      0.72      1101\n",
      "           1       0.64      0.35      0.45       501\n",
      "\n",
      "    accuracy                           0.62      2162\n",
      "   macro avg       0.61      0.53      0.55      2162\n",
      "weighted avg       0.61      0.62      0.59      2162\n",
      "\n",
      "0.6151711378353376\n"
     ]
    }
   ],
   "source": [
    "model_svc = SVC(kernel='rbf')\n",
    "model_svc.fit(X_train, y_train)\n",
    "\n",
    "y_pred=model_svc.predict(X_test)\n",
    "print(classification_report(y_test,y_pred))\n",
    "print(accuracy_score(y_test,y_pred))"
   ]
  },
  {
   "cell_type": "markdown",
   "metadata": {},
   "source": [
    "## Pengaturan token Twitter API dan proses autentikasi"
   ]
  },
  {
   "cell_type": "code",
   "execution_count": 30,
   "metadata": {},
   "outputs": [],
   "source": [
    "consumer_key='cEcWpJKUzM043X1RO2WFn6QJb'\n",
    "consumer_secret='7OBpCTMblS1trVhXUH2vMG9oUtmuURnRIbIghKaL060EH8u5Ha'\n",
    "\n",
    "access_token='61717767-I4auSvDEIdVt3KIdeOPS0QaaHigKt6i4b7wBHKX3y'\n",
    "access_token_secret='DnwdboAFqOWemztgEOHrOEnvlhR3SImn3AKSkhhURE1KL'\n",
    "\n",
    "auth=tweepy.OAuthHandler(consumer_key,consumer_secret) #Akses akun twitter\n",
    "auth.set_access_token(access_token,access_token_secret) #Akses twitter general\n",
    "api = tweepy.API(auth,wait_on_rate_limit=True) #Autentikasi twitter API"
   ]
  },
  {
   "cell_type": "markdown",
   "metadata": {},
   "source": [
    "## Proses Scrapping"
   ]
  },
  {
   "cell_type": "code",
   "execution_count": 31,
   "metadata": {},
   "outputs": [],
   "source": [
    "def scrappe(keyword,count,since,until): #Input: kata kunci, jumlah tweet yang diinginkan, tanggal awal, tanggal akhir\n",
    "    text_query=f\"since:{since} until:{until} {keyword}\" #Query search twitter\n",
    "    tweets = tweepy.Cursor(api.search,q=text_query).items(count) #Mencari tweet dengan kata kunci tertentu max seminggu sejak hari ini\n",
    "    tweets_list = [[tweet.created_at, tweet.id, tweet.text, tweet.retweet_count, tweet.favorite_count,tweet.coordinates] for tweet in tweets] #Mengambil parameter yang diperlukan\n",
    "    df_tweet=pd.DataFrame(tweets_list)\n",
    "    df_tweet.columns=['tanggal','id','text','rt','fav','coor'] #tanggal: Tanggal tweet dipost, id: id tweet, text: isi tweet, rt: Jumlah retweet, fav: Jumlah favorit/like, coor: Koordinat lokasi\n",
    "    return(df_tweet)"
   ]
  },
  {
   "cell_type": "code",
   "execution_count": 32,
   "metadata": {},
   "outputs": [],
   "source": [
    "def proc_feature(features):\n",
    "    # Remove all the special characters\n",
    "    processed_feature = re.sub(r'\\W', ' ', features)\n",
    "    processed_feature = re.sub(r'\\s+[a-zA-Z]\\s+', ' ', processed_feature)\n",
    "    processed_feature = re.sub(r'\\^[a-zA-Z]\\s+', ' ', processed_feature) \n",
    "    processed_feature = re.sub(r'\\s+', ' ', processed_feature, flags=re.I)\n",
    "    processed_feature = re.sub(r'^b\\s+', '', processed_feature)\n",
    "    processed_feature = processed_feature.lower()   \n",
    "    return(processed_feature)"
   ]
  },
  {
   "cell_type": "code",
   "execution_count": 36,
   "metadata": {},
   "outputs": [],
   "source": [
    "mudik=scrappe('Mudik',500,\"2021-04-16\",\"2021-04-24\")"
   ]
  },
  {
   "cell_type": "code",
   "execution_count": 37,
   "metadata": {},
   "outputs": [
    {
     "data": {
      "text/html": [
       "<div>\n",
       "<style scoped>\n",
       "    .dataframe tbody tr th:only-of-type {\n",
       "        vertical-align: middle;\n",
       "    }\n",
       "\n",
       "    .dataframe tbody tr th {\n",
       "        vertical-align: top;\n",
       "    }\n",
       "\n",
       "    .dataframe thead th {\n",
       "        text-align: right;\n",
       "    }\n",
       "</style>\n",
       "<table border=\"1\" class=\"dataframe\">\n",
       "  <thead>\n",
       "    <tr style=\"text-align: right;\">\n",
       "      <th></th>\n",
       "      <th>tanggal</th>\n",
       "      <th>id</th>\n",
       "      <th>text</th>\n",
       "      <th>rt</th>\n",
       "      <th>fav</th>\n",
       "      <th>coor</th>\n",
       "    </tr>\n",
       "  </thead>\n",
       "  <tbody>\n",
       "    <tr>\n",
       "      <th>0</th>\n",
       "      <td>2021-04-23 23:59:57</td>\n",
       "      <td>1385745289168887811</td>\n",
       "      <td>RT @na_dirs: Mudik dilarang. Tapi ke tempat wi...</td>\n",
       "      <td>2928</td>\n",
       "      <td>0</td>\n",
       "      <td>None</td>\n",
       "    </tr>\n",
       "    <tr>\n",
       "      <th>1</th>\n",
       "      <td>2021-04-23 23:59:37</td>\n",
       "      <td>1385745204863373313</td>\n",
       "      <td>RT @3L1z__4: WNA masuk yes\\nPilkada Yes\\nRekre...</td>\n",
       "      <td>2</td>\n",
       "      <td>0</td>\n",
       "      <td>None</td>\n",
       "    </tr>\n",
       "    <tr>\n",
       "      <th>2</th>\n",
       "      <td>2021-04-23 23:59:33</td>\n",
       "      <td>1385745189231239170</td>\n",
       "      <td>RT @hipohan: Mudik gak boleh, tapi disuruh bel...</td>\n",
       "      <td>9</td>\n",
       "      <td>0</td>\n",
       "      <td>None</td>\n",
       "    </tr>\n",
       "    <tr>\n",
       "      <th>3</th>\n",
       "      <td>2021-04-23 23:59:31</td>\n",
       "      <td>1385745179458506754</td>\n",
       "      <td>RT @_AnakKolong: SEBAIKNYA SELURUH WARGA NEGAR...</td>\n",
       "      <td>115</td>\n",
       "      <td>0</td>\n",
       "      <td>None</td>\n",
       "    </tr>\n",
       "    <tr>\n",
       "      <th>4</th>\n",
       "      <td>2021-04-23 23:59:13</td>\n",
       "      <td>1385745104770506755</td>\n",
       "      <td>RT @DivHumas_Polri: Tak Ada Penjualan Tiket di...</td>\n",
       "      <td>14</td>\n",
       "      <td>0</td>\n",
       "      <td>None</td>\n",
       "    </tr>\n",
       "    <tr>\n",
       "      <th>...</th>\n",
       "      <td>...</td>\n",
       "      <td>...</td>\n",
       "      <td>...</td>\n",
       "      <td>...</td>\n",
       "      <td>...</td>\n",
       "      <td>...</td>\n",
       "    </tr>\n",
       "    <tr>\n",
       "      <th>4995</th>\n",
       "      <td>2021-04-23 16:49:02</td>\n",
       "      <td>1385636847422828548</td>\n",
       "      <td>RT @ustadtengkuzul: Iya juga ya...\\nPilkada, B...</td>\n",
       "      <td>688</td>\n",
       "      <td>0</td>\n",
       "      <td>None</td>\n",
       "    </tr>\n",
       "    <tr>\n",
       "      <th>4996</th>\n",
       "      <td>2021-04-23 16:49:00</td>\n",
       "      <td>1385636836190482440</td>\n",
       "      <td>RT @PartaiSocmed: Dengan segala hormat, harap ...</td>\n",
       "      <td>77</td>\n",
       "      <td>0</td>\n",
       "      <td>None</td>\n",
       "    </tr>\n",
       "    <tr>\n",
       "      <th>4997</th>\n",
       "      <td>2021-04-23 16:48:56</td>\n",
       "      <td>1385636819954323459</td>\n",
       "      <td>RT @upinipinpath: WNA India masuk indonesia. K...</td>\n",
       "      <td>18</td>\n",
       "      <td>0</td>\n",
       "      <td>None</td>\n",
       "    </tr>\n",
       "    <tr>\n",
       "      <th>4998</th>\n",
       "      <td>2021-04-23 16:48:56</td>\n",
       "      <td>1385636818645766153</td>\n",
       "      <td>@_AnakKolong @KSPgoid @mohmahfudmd Bos sy setu...</td>\n",
       "      <td>0</td>\n",
       "      <td>0</td>\n",
       "      <td>None</td>\n",
       "    </tr>\n",
       "    <tr>\n",
       "      <th>4999</th>\n",
       "      <td>2021-04-23 16:48:52</td>\n",
       "      <td>1385636802875125764</td>\n",
       "      <td>@paquitacumadebu @kompascom Anda salah paham h...</td>\n",
       "      <td>0</td>\n",
       "      <td>1</td>\n",
       "      <td>None</td>\n",
       "    </tr>\n",
       "  </tbody>\n",
       "</table>\n",
       "<p>5000 rows × 6 columns</p>\n",
       "</div>"
      ],
      "text/plain": [
       "                 tanggal                   id  \\\n",
       "0    2021-04-23 23:59:57  1385745289168887811   \n",
       "1    2021-04-23 23:59:37  1385745204863373313   \n",
       "2    2021-04-23 23:59:33  1385745189231239170   \n",
       "3    2021-04-23 23:59:31  1385745179458506754   \n",
       "4    2021-04-23 23:59:13  1385745104770506755   \n",
       "...                  ...                  ...   \n",
       "4995 2021-04-23 16:49:02  1385636847422828548   \n",
       "4996 2021-04-23 16:49:00  1385636836190482440   \n",
       "4997 2021-04-23 16:48:56  1385636819954323459   \n",
       "4998 2021-04-23 16:48:56  1385636818645766153   \n",
       "4999 2021-04-23 16:48:52  1385636802875125764   \n",
       "\n",
       "                                                   text    rt  fav  coor  \n",
       "0     RT @na_dirs: Mudik dilarang. Tapi ke tempat wi...  2928    0  None  \n",
       "1     RT @3L1z__4: WNA masuk yes\\nPilkada Yes\\nRekre...     2    0  None  \n",
       "2     RT @hipohan: Mudik gak boleh, tapi disuruh bel...     9    0  None  \n",
       "3     RT @_AnakKolong: SEBAIKNYA SELURUH WARGA NEGAR...   115    0  None  \n",
       "4     RT @DivHumas_Polri: Tak Ada Penjualan Tiket di...    14    0  None  \n",
       "...                                                 ...   ...  ...   ...  \n",
       "4995  RT @ustadtengkuzul: Iya juga ya...\\nPilkada, B...   688    0  None  \n",
       "4996  RT @PartaiSocmed: Dengan segala hormat, harap ...    77    0  None  \n",
       "4997  RT @upinipinpath: WNA India masuk indonesia. K...    18    0  None  \n",
       "4998  @_AnakKolong @KSPgoid @mohmahfudmd Bos sy setu...     0    0  None  \n",
       "4999  @paquitacumadebu @kompascom Anda salah paham h...     0    1  None  \n",
       "\n",
       "[5000 rows x 6 columns]"
      ]
     },
     "execution_count": 37,
     "metadata": {},
     "output_type": "execute_result"
    }
   ],
   "source": [
    "mudik"
   ]
  },
  {
   "cell_type": "code",
   "execution_count": 38,
   "metadata": {},
   "outputs": [],
   "source": [
    "X_pred=mudik['text'].apply(lambda x: proc_feature(x))\n",
    "X_pred = vectorizer.transform(X_pred).toarray()\n",
    "X_pred = tfidfconverter.transform(X_pred).toarray()"
   ]
  },
  {
   "cell_type": "code",
   "execution_count": 39,
   "metadata": {},
   "outputs": [],
   "source": [
    "y_mudik_pred=model_svc.predict(X_pred)"
   ]
  },
  {
   "cell_type": "code",
   "execution_count": 40,
   "metadata": {},
   "outputs": [],
   "source": [
    "mudik['label']=y_mudik_pred\n",
    "mudik['Sentimen']=mudik['label'].replace({-1:'Negatif',0:'Netral',1:'Positif'})"
   ]
  },
  {
   "cell_type": "code",
   "execution_count": 41,
   "metadata": {},
   "outputs": [
    {
     "data": {
      "image/png": "[encoded data removed]",
      "text/plain": [
       "<Figure size 576x576 with 1 Axes>"
      ]
     },
     "metadata": {},
     "output_type": "display_data"
    }
   ],
   "source": [
    "fig, ax = pl.subplots(figsize=[8,8])\n",
    "ax.pie(mudik['Sentimen'].value_counts(),labels=mudik['Sentimen'].value_counts().index, autopct='%1.1f%%',\n",
    "        shadow=True, radius=0.6)\n",
    "ax.axis('equal')  # Equal aspect ratio ensures that pie is drawn as a circle.\n",
    "ax.set_title(f'Sentimen Terhadap Tweet Keyword: \"Mudik\" sejak {mudik.tanggal.min()}')\n",
    "pl.show()"
   ]
  },
  {
   "cell_type": "markdown",
   "metadata": {},
   "source": [
    "## Engagement per Sentimen Berdasarkan Jumlah Retweet dan Like"
   ]
  },
  {
   "cell_type": "code",
   "execution_count": 77,
   "metadata": {},
   "outputs": [
    {
     "data": {
      "image/png": "[encoded data removed]",
      "text/plain": [
       "<Figure size 864x432 with 2 Axes>"
      ]
     },
     "metadata": {
      "needs_background": "light"
     },
     "output_type": "display_data"
    }
   ],
   "source": [
    "a=mudik.groupby('Sentimen').sum()\n",
    "fig, ax = pl.subplots(ncols=2,nrows=1,figsize=[12,6])\n",
    "ax[0].bar(x=a.index,height=a.rt,label='Jumlah Retweet')\n",
    "ax[1].bar(x=a.index,height=a.fav,label='Jumlah Like')\n",
    "ax[0].legend()\n",
    "ax[1].legend()\n",
    "pl.show()"
   ]
  },
  {
   "cell_type": "code",
   "execution_count": 80,
   "metadata": {},
   "outputs": [
    {
     "data": {
      "text/plain": [
       "<AxesSubplot:xlabel='Sentimen'>"
      ]
     },
     "execution_count": 80,
     "metadata": {},
     "output_type": "execute_result"
    },
    {
     "data": {
      "image/png": "[encoded data removed]",
      "text/plain": [
       "<Figure size 432x288 with 1 Axes>"
      ]
     },
     "metadata": {
      "needs_background": "light"
     },
     "output_type": "display_data"
    }
   ],
   "source": [
    "a[a.index!='Netral'][['rt','fav']].plot(kind='bar', stacked=True)"
   ]
  },
  {
   "cell_type": "markdown",
   "metadata": {},
   "source": [
    "# Tweet Paling Banyak di-Retweet dan like"
   ]
  },
  {
   "cell_type": "code",
   "execution_count": 111,
   "metadata": {},
   "outputs": [
    {
     "name": "stdout",
     "output_type": "stream",
     "text": [
      "RT @FiersaBesari: Banyak paradoks di negeri ini. Mudik dilarang, tapi destinasi wisata buka serempak. Penutupan jalan raya, tapi malah mace…\n",
      "Jumlah retweet: 62064\n",
      "Sentimen: Netral\n"
     ]
    }
   ],
   "source": [
    "indeks=mudik[mudik['rt']==mudik['rt'].max()].index.values[0]\n",
    "print(mudik['text'][indeks])\n",
    "print('Jumlah retweet:',mudik['rt'][indeks])\n",
    "print('Sentimen:',mudik['Sentimen'][indeks])"
   ]
  },
  {
   "cell_type": "code",
   "execution_count": 110,
   "metadata": {
    "scrolled": true
   },
   "outputs": [
    {
     "name": "stdout",
     "output_type": "stream",
     "text": [
      "Mudik dilarang. Tapi ke tempat wisata, boleh. Santri juga boleh pulang. \n",
      "\n",
      "Kebijakan gak konsisten begini yg bikin s… https://t.co/8oAOuOEOKy\n",
      "Jumlah Favorit/Like: 6328\n",
      "Sentimen: Netral\n"
     ]
    }
   ],
   "source": [
    "indeks=mudik[mudik['fav']==mudik['fav'].max()].index.values[0]\n",
    "print(mudik['text'][indeks])\n",
    "print('Jumlah Favorit/Like:',mudik['fav'][indeks])\n",
    "print('Sentimen:',mudik['Sentimen'][indeks])"
   ]
  }
 ],
 "metadata": {
  "kernelspec": {
   "display_name": "Python 3",
   "language": "python",
   "name": "python3"
  },
  "language_info": {
   "codemirror_mode": {
    "name": "ipython",
    "version": 3
   },
   "file_extension": ".py",
   "mimetype": "text/x-python",
   "name": "python",
   "nbconvert_exporter": "python",
   "pygments_lexer": "ipython3",
   "version": "3.9.5"
  }
 },
 "nbformat": 4,
 "nbformat_minor": 4
}
