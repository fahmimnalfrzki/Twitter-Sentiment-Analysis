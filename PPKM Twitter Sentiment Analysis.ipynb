{
 "cells": [
  {
   "cell_type": "code",
   "execution_count": 1,
   "id": "49d067b2",
   "metadata": {},
   "outputs": [
    {
     "name": "stderr",
     "output_type": "stream",
     "text": [
      "[nltk_data] Downloading package stopwords to\n",
      "[nltk_data]     /Users/fahmimn21/nltk_data...\n",
      "[nltk_data]   Package stopwords is already up-to-date!\n"
     ]
    },
    {
     "data": {
      "text/plain": [
       "True"
      ]
     },
     "execution_count": 1,
     "metadata": {},
     "output_type": "execute_result"
    }
   ],
   "source": [
    "import pandas as pd #Mengolah data seperti excel\n",
    "import tweepy #Diinstal dulu di anaconda prompt dengan run-> pip install tweepy\n",
    "import nltk\n",
    "import re\n",
    "\n",
    "import matplotlib.pyplot as pl\n",
    "from sklearn.feature_extraction.text import CountVectorizer #Menghitung frekuensi kata yang muncul di suatu data\n",
    "from sklearn.feature_extraction.text import TfidfTransformer #Pembobotan frekuensi masing-masing kata\n",
    "from sklearn.model_selection import train_test_split #Fungsi utk membagi dataset menjadi data training dan test\n",
    "from sklearn.model_selection import GridSearchCV #Mencari hyperparameter\n",
    "from sklearn.metrics import classification_report, accuracy_score, roc_auc_score, make_scorer"
   ]
  },
  {
   "cell_type": "markdown",
   "id": "87b8ea05",
   "metadata": {},
   "source": [
    "# Request Twitter API"
   ]
  },
  {
   "cell_type": "code",
   "execution_count": 2,
   "id": "aec70922",
   "metadata": {},
   "outputs": [],
   "source": [
    "consumer_key='hu9fhkxNEO5zmnGA7MW4vhnE8'\n",
    "consumer_secret='3OC43YiiKGnARsKzmh1KXjuNvzgepCW70i3JDiilLFlRxdiEij'\n",
    "\n",
    "access_token='61717767-QAqtFYQgWWdJh5mNJ87hDLWrLI05vzassSQC1Td7I'\n",
    "access_token_secret='tvRE5WQkmlXs2C1W9M66xK5kerlBYVFXwp0Jtqm5PTsqN'\n",
    "\n",
    "auth=tweepy.OAuthHandler(consumer_key,consumer_secret) #Akses akun twitter\n",
    "auth.set_access_token(access_token,access_token_secret) #Akses twitter general\n",
    "api = tweepy.API(auth,wait_on_rate_limit=True) #Autentikasi twitter API"
   ]
  },
  {
   "cell_type": "markdown",
   "id": "66e722a0",
   "metadata": {},
   "source": [
    "# Define Function Untuk Scrapping dan Text Preprocessing"
   ]
  },
  {
   "cell_type": "code",
   "execution_count": 3,
   "id": "94444fac",
   "metadata": {},
   "outputs": [],
   "source": [
    "def scrappe(keyword,count,since,until): #Input: kata kunci, jumlah tweet yang diinginkan, tanggal awal, tanggal akhir\n",
    "    text_query=f\"since:{since} until:{until} {keyword}\" #Query search twitter\n",
    "    tweets = tweepy.Cursor(api.search,q=text_query).items(count) #Mencari tweet dengan kata kunci tertentu max seminggu sejak hari ini\n",
    "    tweets_list = [[tweet.created_at, tweet.id, tweet.text, tweet.retweet_count, tweet.favorite_count, tweet.place] for tweet in tweets] #Mengambil parameter yang diperlukan\n",
    "    df_tweet=pd.DataFrame(tweets_list)\n",
    "    df_tweet.columns=['tanggal','id','text','rt','fav','place'] #tanggal: Tanggal tweet dipost, id: id tweet, text: isi tweet, rt: Jumlah retweet, fav: Jumlah favorit/like, coor: Koordinat lokasi\n",
    "    return(df_tweet)\n",
    "\n",
    "def proc_feature(features):\n",
    "    # Remove all the special characters\n",
    "    processed_feature = re.sub(r'\\W', ' ', features)\n",
    "    processed_feature = re.sub(r'\\s+[a-zA-Z]\\s+', ' ', processed_feature)\n",
    "    processed_feature = re.sub(r'\\^[a-zA-Z]\\s+', ' ', processed_feature) \n",
    "    processed_feature = re.sub(r'\\s+', ' ', processed_feature, flags=re.I)\n",
    "    processed_feature = re.sub(r'^b\\s+', '', processed_feature)\n",
    "    processed_feature = processed_feature.lower()  \n",
    "    regrex_pattern = re.compile(pattern = \"[\"\n",
    "        u\"\\U0001F600-\\U0001F64F\"  # emoticons\n",
    "        u\"\\U0001F300-\\U0001F5FF\"  # symbols & pictographs\n",
    "        u\"\\U0001F680-\\U0001F6FF\"  # transport & map symbols\n",
    "        u\"\\U0001F1E0-\\U0001F1FF\"  # flags (iOS)\n",
    "                           \"]+\", flags = re.UNICODE)\n",
    "    processed_feature = regrex_pattern.sub(r'',processed_feature)\n",
    "    processed_feature = re.sub('rt',' ',processed_feature)\n",
    "    processed_feature = re.sub('gak',' ',processed_feature)\n",
    "    processed_feature = re.sub('http',' ',processed_feature)\n",
    "    processed_feature = re.sub('https',' ',processed_feature)\n",
    "    return(processed_feature)"
   ]
  },
  {
   "cell_type": "markdown",
   "id": "ab555def",
   "metadata": {},
   "source": [
    "# Mining Data/Load Data"
   ]
  },
  {
   "cell_type": "code",
   "execution_count": 4,
   "id": "b509ddbd",
   "metadata": {},
   "outputs": [],
   "source": [
    "#data=scrappe(\"ppkm\",20000,\"2021-07-01\",\"2021-07-12\")\n",
    "#data.to_excel('Tweet_PPKM_20000.xlsx',index=False)"
   ]
  },
  {
   "cell_type": "code",
   "execution_count": 5,
   "id": "e135934e",
   "metadata": {},
   "outputs": [],
   "source": [
    "data=pd.read_excel('Tweet_PPKM_20000.xlsx')"
   ]
  },
  {
   "cell_type": "code",
   "execution_count": 6,
   "id": "fdfe4fd8",
   "metadata": {},
   "outputs": [
    {
     "data": {
      "text/html": [
       "<div>\n",
       "<style scoped>\n",
       "    .dataframe tbody tr th:only-of-type {\n",
       "        vertical-align: middle;\n",
       "    }\n",
       "\n",
       "    .dataframe tbody tr th {\n",
       "        vertical-align: top;\n",
       "    }\n",
       "\n",
       "    .dataframe thead th {\n",
       "        text-align: right;\n",
       "    }\n",
       "</style>\n",
       "<table border=\"1\" class=\"dataframe\">\n",
       "  <thead>\n",
       "    <tr style=\"text-align: right;\">\n",
       "      <th></th>\n",
       "      <th>tanggal</th>\n",
       "      <th>id</th>\n",
       "      <th>text</th>\n",
       "      <th>rt</th>\n",
       "      <th>fav</th>\n",
       "      <th>place</th>\n",
       "    </tr>\n",
       "  </thead>\n",
       "  <tbody>\n",
       "    <tr>\n",
       "      <th>0</th>\n",
       "      <td>2021-07-11 23:59:59</td>\n",
       "      <td>1414373940571480064</td>\n",
       "      <td>RT @Pencerah__: Saya heran sama sebagian masya...</td>\n",
       "      <td>91</td>\n",
       "      <td>0</td>\n",
       "      <td>NaN</td>\n",
       "    </tr>\n",
       "    <tr>\n",
       "      <th>1</th>\n",
       "      <td>2021-07-11 23:59:57</td>\n",
       "      <td>1414373928596762880</td>\n",
       "      <td>RT @geloraco: Dibentak Polisi saat Razia PPKM,...</td>\n",
       "      <td>1093</td>\n",
       "      <td>0</td>\n",
       "      <td>NaN</td>\n",
       "    </tr>\n",
       "    <tr>\n",
       "      <th>2</th>\n",
       "      <td>2021-07-11 23:59:56</td>\n",
       "      <td>1414373927070014976</td>\n",
       "      <td>https://t.co/TUSTFo80j0\\n\\nBeneran nih pak @jo...</td>\n",
       "      <td>0</td>\n",
       "      <td>0</td>\n",
       "      <td>NaN</td>\n",
       "    </tr>\n",
       "    <tr>\n",
       "      <th>3</th>\n",
       "      <td>2021-07-11 23:59:53</td>\n",
       "      <td>1414373914684236032</td>\n",
       "      <td>@shabrisabi @AREAJULID Itu kenapa skrg namanya...</td>\n",
       "      <td>5</td>\n",
       "      <td>24</td>\n",
       "      <td>NaN</td>\n",
       "    </tr>\n",
       "    <tr>\n",
       "      <th>4</th>\n",
       "      <td>2021-07-11 23:59:47</td>\n",
       "      <td>1414373889262572032</td>\n",
       "      <td>RT @TarizSolis: ~ Rekomendasi film pendek di Y...</td>\n",
       "      <td>4180</td>\n",
       "      <td>0</td>\n",
       "      <td>NaN</td>\n",
       "    </tr>\n",
       "  </tbody>\n",
       "</table>\n",
       "</div>"
      ],
      "text/plain": [
       "              tanggal                   id  \\\n",
       "0 2021-07-11 23:59:59  1414373940571480064   \n",
       "1 2021-07-11 23:59:57  1414373928596762880   \n",
       "2 2021-07-11 23:59:56  1414373927070014976   \n",
       "3 2021-07-11 23:59:53  1414373914684236032   \n",
       "4 2021-07-11 23:59:47  1414373889262572032   \n",
       "\n",
       "                                                text    rt  fav place  \n",
       "0  RT @Pencerah__: Saya heran sama sebagian masya...    91    0   NaN  \n",
       "1  RT @geloraco: Dibentak Polisi saat Razia PPKM,...  1093    0   NaN  \n",
       "2  https://t.co/TUSTFo80j0\\n\\nBeneran nih pak @jo...     0    0   NaN  \n",
       "3  @shabrisabi @AREAJULID Itu kenapa skrg namanya...     5   24   NaN  \n",
       "4  RT @TarizSolis: ~ Rekomendasi film pendek di Y...  4180    0   NaN  "
      ]
     },
     "execution_count": 6,
     "metadata": {},
     "output_type": "execute_result"
    }
   ],
   "source": [
    "data.head()"
   ]
  },
  {
   "cell_type": "code",
   "execution_count": 7,
   "id": "7f894f5e",
   "metadata": {},
   "outputs": [
    {
     "name": "stdout",
     "output_type": "stream",
     "text": [
      "<class 'pandas.core.frame.DataFrame'>\n",
      "RangeIndex: 20000 entries, 0 to 19999\n",
      "Data columns (total 6 columns):\n",
      " #   Column   Non-Null Count  Dtype         \n",
      "---  ------   --------------  -----         \n",
      " 0   tanggal  20000 non-null  datetime64[ns]\n",
      " 1   id       20000 non-null  int64         \n",
      " 2   text     20000 non-null  object        \n",
      " 3   rt       20000 non-null  int64         \n",
      " 4   fav      20000 non-null  int64         \n",
      " 5   place    365 non-null    object        \n",
      "dtypes: datetime64[ns](1), int64(3), object(2)\n",
      "memory usage: 937.6+ KB\n"
     ]
    }
   ],
   "source": [
    "data.info()"
   ]
  },
  {
   "cell_type": "markdown",
   "id": "c72ecb6e",
   "metadata": {},
   "source": [
    "# Data Preprocessing & Pre-computed Sentiment Score"
   ]
  },
  {
   "cell_type": "code",
   "execution_count": 8,
   "id": "1b727f31",
   "metadata": {},
   "outputs": [],
   "source": [
    "#Load data list kata bersentimen negatif\n",
    "neg_file=pd.read_csv('https://github.com/riochr17/Analisis-Sentimen-ID/raw/master/data/negatif.txt',header=None,delimiter='\\t').values\n",
    "neg_file=list(neg_file.reshape(neg_file.shape[0],))\n",
    "\n",
    "#Load data list kata bersentimen positif\n",
    "pst_file=pd.read_csv('https://github.com/riochr17/Analisis-Sentimen-ID/raw/master/data/positif.txt',header=None,delimiter='\\t').values\n",
    "pst_file=list(pst_file.reshape(pst_file.shape[0],))"
   ]
  },
  {
   "cell_type": "code",
   "execution_count": 9,
   "id": "baf4b9e8",
   "metadata": {},
   "outputs": [],
   "source": [
    "#Load data list stopwords bahasa indonesia\n",
    "stp_word=pd.read_csv('https://github.com/stopwords-iso/stopwords-id/raw/master/stopwords-id.txt',header=None).values"
   ]
  },
  {
   "cell_type": "markdown",
   "id": "302b96ac",
   "metadata": {},
   "source": [
    "### Pada bagian ini dibuat menjadi komentar karena data sampling sudah tersimpan di excel jadi hanya perlu diload"
   ]
  },
  {
   "cell_type": "code",
   "execution_count": 10,
   "id": "5947b28d",
   "metadata": {},
   "outputs": [],
   "source": [
    "#//Diambil 10000 data secara acak untuk dilakukan training data dan model test\n",
    "#sample=data.sample(10000).reset_index(drop=True)\n",
    "sample['text']=sample['text'].apply(lambda x: proc_feature(x)) #Filter karakter dan kata pada masing-masing data\n",
    "#Penghapusan stopwords\n",
    "sample['text_stpw']=sample['text'].apply(lambda x: ' '.join([item for item in x.split(' ') if item not in stp_word]))"
   ]
  },
  {
   "cell_type": "code",
   "execution_count": 11,
   "id": "6d937006",
   "metadata": {},
   "outputs": [],
   "source": [
    "#Pada bagian ini, dihitung jumlah kata negatif dan positif masing-masing tweet berdasarkan list kata pada neg_file dan pst_file\n",
    "\n",
    "post_words_count=sample['text_stpw'].apply(lambda x: len([w for w in x.split(' ') if w in pst_file]))\n",
    "neg_words_count=sample['text_stpw'].apply(lambda x: len([w for w in x.split(' ') if w in neg_file]))"
   ]
  },
  {
   "cell_type": "code",
   "execution_count": 12,
   "id": "99593380",
   "metadata": {},
   "outputs": [],
   "source": [
    "#Menghitung skor sentimen, selisih jml kata positif dan negatif\n",
    "sample['sent_score']=(post_words_count-neg_words_count)\n",
    "#Memberi sign utk selisih <0 -1, >0 1, dan =0 0\n",
    "sample['sentiment']=sample['sent_score'].apply(lambda x: 1 if x>0 else -1 if x<0 else 0)"
   ]
  },
  {
   "cell_type": "code",
   "execution_count": 103,
   "id": "cf51fa41",
   "metadata": {
    "scrolled": false
   },
   "outputs": [],
   "source": [
    "#sample"
   ]
  },
  {
   "cell_type": "code",
   "execution_count": 104,
   "id": "2a80633f",
   "metadata": {},
   "outputs": [],
   "source": [
    "#sample.sentiment.value_counts()"
   ]
  },
  {
   "cell_type": "code",
   "execution_count": 50,
   "id": "b5d6d8ae",
   "metadata": {},
   "outputs": [],
   "source": [
    "#sample.to_excel('Sample_Sentiment.xlsx',index=False)"
   ]
  },
  {
   "cell_type": "markdown",
   "id": "4969e806",
   "metadata": {},
   "source": [
    "### Load Data Sample"
   ]
  },
  {
   "cell_type": "code",
   "execution_count": 51,
   "id": "cb4c21cc",
   "metadata": {},
   "outputs": [],
   "source": [
    "sample=pd.read_excel('Sample_Sentiment.xlsx')"
   ]
  },
  {
   "cell_type": "code",
   "execution_count": 52,
   "id": "97fefd3f",
   "metadata": {},
   "outputs": [
    {
     "data": {
      "text/html": [
       "<div>\n",
       "<style scoped>\n",
       "    .dataframe tbody tr th:only-of-type {\n",
       "        vertical-align: middle;\n",
       "    }\n",
       "\n",
       "    .dataframe tbody tr th {\n",
       "        vertical-align: top;\n",
       "    }\n",
       "\n",
       "    .dataframe thead th {\n",
       "        text-align: right;\n",
       "    }\n",
       "</style>\n",
       "<table border=\"1\" class=\"dataframe\">\n",
       "  <thead>\n",
       "    <tr style=\"text-align: right;\">\n",
       "      <th></th>\n",
       "      <th>tanggal</th>\n",
       "      <th>id</th>\n",
       "      <th>text</th>\n",
       "      <th>rt</th>\n",
       "      <th>fav</th>\n",
       "      <th>place</th>\n",
       "      <th>text_stpw</th>\n",
       "      <th>sent_score</th>\n",
       "      <th>sentiment</th>\n",
       "    </tr>\n",
       "  </thead>\n",
       "  <tbody>\n",
       "    <tr>\n",
       "      <th>0</th>\n",
       "      <td>2021-07-11 14:32:23</td>\n",
       "      <td>1414231096099802880</td>\n",
       "      <td>hancchii ppkm ini aku lagi dirumahin sama pe...</td>\n",
       "      <td>104</td>\n",
       "      <td>0</td>\n",
       "      <td>NaN</td>\n",
       "      <td>hancchii ppkm dirumahin perusahaan gatau dip...</td>\n",
       "      <td>0</td>\n",
       "      <td>0</td>\n",
       "    </tr>\n",
       "    <tr>\n",
       "      <th>1</th>\n",
       "      <td>2021-07-11 22:06:37</td>\n",
       "      <td>1414345408457842944</td>\n",
       "      <td>ppkm sudah tepat ppkm rakyat sehat  s co vwpcq...</td>\n",
       "      <td>0</td>\n",
       "      <td>0</td>\n",
       "      <td>NaN</td>\n",
       "      <td>ppkm ppkm rakyat sehat  s co vwpcqufwk1</td>\n",
       "      <td>1</td>\n",
       "      <td>1</td>\n",
       "    </tr>\n",
       "    <tr>\n",
       "      <th>2</th>\n",
       "      <td>2021-07-11 12:06:39</td>\n",
       "      <td>1414194421143245056</td>\n",
       "      <td>update kehidupan mahasiswa kkn ditengah ppkm h...</td>\n",
       "      <td>0</td>\n",
       "      <td>0</td>\n",
       "      <td>NaN</td>\n",
       "      <td>update kehidupan mahasiswa kkn ditengah ppkm h...</td>\n",
       "      <td>1</td>\n",
       "      <td>1</td>\n",
       "    </tr>\n",
       "    <tr>\n",
       "      <th>3</th>\n",
       "      <td>2021-07-11 22:56:43</td>\n",
       "      <td>1414358017789678080</td>\n",
       "      <td>tamagosfarm make dish ว นจ นทร น เป ดคร วต อ...</td>\n",
       "      <td>24</td>\n",
       "      <td>0</td>\n",
       "      <td>NaN</td>\n",
       "      <td>tamagosfarm make dish ว นจ นทร น เป ดคร วต อ...</td>\n",
       "      <td>0</td>\n",
       "      <td>0</td>\n",
       "    </tr>\n",
       "    <tr>\n",
       "      <th>4</th>\n",
       "      <td>2021-07-11 12:03:38</td>\n",
       "      <td>1414193662779485952</td>\n",
       "      <td>ppkm without yea thats u</td>\n",
       "      <td>0</td>\n",
       "      <td>0</td>\n",
       "      <td>NaN</td>\n",
       "      <td>ppkm without yea thats u</td>\n",
       "      <td>0</td>\n",
       "      <td>0</td>\n",
       "    </tr>\n",
       "    <tr>\n",
       "      <th>...</th>\n",
       "      <td>...</td>\n",
       "      <td>...</td>\n",
       "      <td>...</td>\n",
       "      <td>...</td>\n",
       "      <td>...</td>\n",
       "      <td>...</td>\n",
       "      <td>...</td>\n",
       "      <td>...</td>\n",
       "      <td>...</td>\n",
       "    </tr>\n",
       "    <tr>\n",
       "      <th>9995</th>\n",
       "      <td>2021-07-11 14:21:44</td>\n",
       "      <td>1414228417629676032</td>\n",
       "      <td>kacau ni klo ppkm diperpanjang gaada pemasukan...</td>\n",
       "      <td>0</td>\n",
       "      <td>1</td>\n",
       "      <td>NaN</td>\n",
       "      <td>kacau ni klo ppkm diperpanjang gaada pemasukan...</td>\n",
       "      <td>-1</td>\n",
       "      <td>-1</td>\n",
       "    </tr>\n",
       "    <tr>\n",
       "      <th>9996</th>\n",
       "      <td>2021-07-11 12:53:59</td>\n",
       "      <td>1414206336577933056</td>\n",
       "      <td>pimcuu ppkm</td>\n",
       "      <td>0</td>\n",
       "      <td>0</td>\n",
       "      <td>NaN</td>\n",
       "      <td>pimcuu ppkm</td>\n",
       "      <td>0</td>\n",
       "      <td>0</td>\n",
       "    </tr>\n",
       "    <tr>\n",
       "      <th>9997</th>\n",
       "      <td>2021-07-11 13:14:19</td>\n",
       "      <td>1414211452685017088</td>\n",
       "      <td>1trenggalek halo sobat humas selama ppkm dar...</td>\n",
       "      <td>99</td>\n",
       "      <td>0</td>\n",
       "      <td>NaN</td>\n",
       "      <td>1trenggalek halo sobat humas ppkm darurat ke...</td>\n",
       "      <td>3</td>\n",
       "      <td>1</td>\n",
       "    </tr>\n",
       "    <tr>\n",
       "      <th>9998</th>\n",
       "      <td>2021-07-11 12:47:18</td>\n",
       "      <td>1414204652480983040</td>\n",
       "      <td>lodyandrian buat temen temen pekerja yang di...</td>\n",
       "      <td>794</td>\n",
       "      <td>0</td>\n",
       "      <td>NaN</td>\n",
       "      <td>lodyandrian temen temen pekerja dirumahkan g...</td>\n",
       "      <td>0</td>\n",
       "      <td>0</td>\n",
       "    </tr>\n",
       "    <tr>\n",
       "      <th>9999</th>\n",
       "      <td>2021-07-11 15:11:29</td>\n",
       "      <td>1414240935479709952</td>\n",
       "      <td>shitlicious ppkm pelan pelan kena mental</td>\n",
       "      <td>1963</td>\n",
       "      <td>0</td>\n",
       "      <td>NaN</td>\n",
       "      <td>shitlicious ppkm pelan pelan kena mental</td>\n",
       "      <td>0</td>\n",
       "      <td>0</td>\n",
       "    </tr>\n",
       "  </tbody>\n",
       "</table>\n",
       "<p>10000 rows × 9 columns</p>\n",
       "</div>"
      ],
      "text/plain": [
       "                 tanggal                   id  \\\n",
       "0    2021-07-11 14:32:23  1414231096099802880   \n",
       "1    2021-07-11 22:06:37  1414345408457842944   \n",
       "2    2021-07-11 12:06:39  1414194421143245056   \n",
       "3    2021-07-11 22:56:43  1414358017789678080   \n",
       "4    2021-07-11 12:03:38  1414193662779485952   \n",
       "...                  ...                  ...   \n",
       "9995 2021-07-11 14:21:44  1414228417629676032   \n",
       "9996 2021-07-11 12:53:59  1414206336577933056   \n",
       "9997 2021-07-11 13:14:19  1414211452685017088   \n",
       "9998 2021-07-11 12:47:18  1414204652480983040   \n",
       "9999 2021-07-11 15:11:29  1414240935479709952   \n",
       "\n",
       "                                                   text    rt  fav place  \\\n",
       "0       hancchii ppkm ini aku lagi dirumahin sama pe...   104    0   NaN   \n",
       "1     ppkm sudah tepat ppkm rakyat sehat  s co vwpcq...     0    0   NaN   \n",
       "2     update kehidupan mahasiswa kkn ditengah ppkm h...     0    0   NaN   \n",
       "3       tamagosfarm make dish ว นจ นทร น เป ดคร วต อ...    24    0   NaN   \n",
       "4                              ppkm without yea thats u     0    0   NaN   \n",
       "...                                                 ...   ...  ...   ...   \n",
       "9995  kacau ni klo ppkm diperpanjang gaada pemasukan...     0    1   NaN   \n",
       "9996                                        pimcuu ppkm     0    0   NaN   \n",
       "9997    1trenggalek halo sobat humas selama ppkm dar...    99    0   NaN   \n",
       "9998    lodyandrian buat temen temen pekerja yang di...   794    0   NaN   \n",
       "9999           shitlicious ppkm pelan pelan kena mental  1963    0   NaN   \n",
       "\n",
       "                                              text_stpw  sent_score  sentiment  \n",
       "0       hancchii ppkm dirumahin perusahaan gatau dip...           0          0  \n",
       "1               ppkm ppkm rakyat sehat  s co vwpcqufwk1           1          1  \n",
       "2     update kehidupan mahasiswa kkn ditengah ppkm h...           1          1  \n",
       "3       tamagosfarm make dish ว นจ นทร น เป ดคร วต อ...           0          0  \n",
       "4                              ppkm without yea thats u           0          0  \n",
       "...                                                 ...         ...        ...  \n",
       "9995  kacau ni klo ppkm diperpanjang gaada pemasukan...          -1         -1  \n",
       "9996                                        pimcuu ppkm           0          0  \n",
       "9997    1trenggalek halo sobat humas ppkm darurat ke...           3          1  \n",
       "9998    lodyandrian temen temen pekerja dirumahkan g...           0          0  \n",
       "9999           shitlicious ppkm pelan pelan kena mental           0          0  \n",
       "\n",
       "[10000 rows x 9 columns]"
      ]
     },
     "execution_count": 52,
     "metadata": {},
     "output_type": "execute_result"
    }
   ],
   "source": [
    "sample"
   ]
  },
  {
   "cell_type": "code",
   "execution_count": 53,
   "id": "ae758c45",
   "metadata": {},
   "outputs": [
    {
     "data": {
      "text/plain": [
       " 0    4510\n",
       " 1    2880\n",
       "-1    2610\n",
       "Name: sentiment, dtype: int64"
      ]
     },
     "execution_count": 53,
     "metadata": {},
     "output_type": "execute_result"
    }
   ],
   "source": [
    "sample.sentiment.value_counts() #Cek jumlah data per sentimen"
   ]
  },
  {
   "cell_type": "markdown",
   "id": "d4fb7dad",
   "metadata": {},
   "source": [
    "# Feature Extraction"
   ]
  },
  {
   "cell_type": "code",
   "execution_count": 15,
   "id": "d93eec46",
   "metadata": {},
   "outputs": [],
   "source": [
    "vectorizer = CountVectorizer(max_features=700) #Max jumlah feature= 700 tiap data\n",
    "X=vectorizer.fit_transform(sample.text_stpw).toarray()\n",
    "tfid=TfidfTransformer() #Memisahkan kata menjadi satu feature\n",
    "X=tfid.fit_transform(X).toarray() #Konversi kata ke angka"
   ]
  },
  {
   "cell_type": "code",
   "execution_count": 16,
   "id": "88f218f8",
   "metadata": {},
   "outputs": [],
   "source": [
    "#Split dataset ke training dan test\n",
    "X_train, X_test, y_train, y_test = train_test_split(X, sample.sentiment, test_size=0.2, random_state=42)"
   ]
  },
  {
   "cell_type": "markdown",
   "id": "a5a6eab4",
   "metadata": {},
   "source": [
    "## Training Data with Models"
   ]
  },
  {
   "cell_type": "markdown",
   "id": "722b12a6",
   "metadata": {},
   "source": [
    "### Gaussian Naive Bayes"
   ]
  },
  {
   "cell_type": "code",
   "execution_count": 17,
   "id": "d4481c73",
   "metadata": {},
   "outputs": [
    {
     "name": "stdout",
     "output_type": "stream",
     "text": [
      "              precision    recall  f1-score   support\n",
      "\n",
      "          -1       0.66      0.85      0.74       518\n",
      "           0       0.92      0.29      0.44       935\n",
      "           1       0.50      0.94      0.65       547\n",
      "\n",
      "    accuracy                           0.61      2000\n",
      "   macro avg       0.69      0.69      0.61      2000\n",
      "weighted avg       0.73      0.61      0.57      2000\n",
      "\n",
      "Akurasi: 0.611\n",
      "AUC score: 0.8341056684184976\n"
     ]
    }
   ],
   "source": [
    "from sklearn.naive_bayes import GaussianNB #Import model\n",
    "NB=GaussianNB() #Definisi model\n",
    "NB.fit(X_train,y_train) #Fitting model\n",
    "y_pred_NB=NB.predict(X_test) #Memprediksi output dengan data test\n",
    "print(classification_report(y_test,y_pred_NB)) #Perhitungan metrik\n",
    "print('Akurasi:',accuracy_score(y_test,y_pred_NB)) #Perhitungan akurasi\n",
    "print ('AUC score:',roc_auc_score(y_test,NB.predict_proba(X_test),multi_class='ovo')) #Perhitungan score AUC untuk mendetek apakah model fit atau tidak"
   ]
  },
  {
   "cell_type": "markdown",
   "id": "3a4ce4b6",
   "metadata": {},
   "source": [
    "### Decision Tree"
   ]
  },
  {
   "cell_type": "code",
   "execution_count": 18,
   "id": "a0101d5e",
   "metadata": {},
   "outputs": [
    {
     "name": "stdout",
     "output_type": "stream",
     "text": [
      "Fitting 10 folds for each of 4 candidates, totalling 40 fits\n",
      "              precision    recall  f1-score   support\n",
      "\n",
      "          -1       0.86      0.84      0.85       518\n",
      "           0       0.86      0.87      0.87       935\n",
      "           1       0.87      0.88      0.87       547\n",
      "\n",
      "    accuracy                           0.86      2000\n",
      "   macro avg       0.86      0.86      0.86      2000\n",
      "weighted avg       0.86      0.86      0.86      2000\n",
      "\n",
      "Akurasi: 0.864\n",
      "AUC score: 0.9032335223189077\n"
     ]
    }
   ],
   "source": [
    "from sklearn.tree import DecisionTreeClassifier\n",
    "#Melakukan hyperparameter utk mencari kombinasi parameter yang terbaik\n",
    "best_DT=GridSearchCV(DecisionTreeClassifier(),{'criterion':['gini','entropy'],'splitter':['random','best']},cv=10,n_jobs=4,verbose=4)\n",
    "#Fitting data dengan model yang terhyperparameter\n",
    "best_DT.fit(X_train,y_train)\n",
    "\n",
    "#Definisi model dengan parameter yang terbaik\n",
    "DT=DecisionTreeClassifier(criterion=best_DT.best_params_['criterion'],splitter=best_DT.best_params_['splitter'])\n",
    "DT.fit(X_train,y_train)\n",
    "y_pred_DT=DT.predict(X_test)\n",
    "print(classification_report(y_test,y_pred_DT))\n",
    "print('Akurasi:',accuracy_score(y_test,y_pred_DT))\n",
    "print ('AUC score:',roc_auc_score(y_test,DT.predict_proba(X_test),multi_class='ovo'))"
   ]
  },
  {
   "cell_type": "markdown",
   "id": "4eeecd68",
   "metadata": {},
   "source": [
    "### Logistic Regression"
   ]
  },
  {
   "cell_type": "code",
   "execution_count": 19,
   "id": "0f7c2c56",
   "metadata": {},
   "outputs": [
    {
     "name": "stdout",
     "output_type": "stream",
     "text": [
      "Fitting 10 folds for each of 15 candidates, totalling 150 fits\n"
     ]
    },
    {
     "name": "stderr",
     "output_type": "stream",
     "text": [
      "/Users/fahmimn21/miniforge3/lib/python3.9/site-packages/sklearn/model_selection/_search.py:922: UserWarning: One or more of the test scores are non-finite: [    nan     nan 0.858       nan 0.8635  0.8505  0.8505  0.84575 0.8505\n",
      " 0.8505      nan     nan     nan     nan     nan]\n",
      "  warnings.warn(\n",
      "/Users/fahmimn21/miniforge3/lib/python3.9/site-packages/sklearn/linear_model/_sag.py:328: ConvergenceWarning: The max_iter was reached which means the coef_ did not converge\n",
      "  warnings.warn(\"The max_iter was reached which means \"\n"
     ]
    },
    {
     "name": "stdout",
     "output_type": "stream",
     "text": [
      "              precision    recall  f1-score   support\n",
      "\n",
      "          -1       0.90      0.80      0.85       518\n",
      "           0       0.82      0.91      0.87       935\n",
      "           1       0.92      0.84      0.88       547\n",
      "\n",
      "    accuracy                           0.87      2000\n",
      "   macro avg       0.88      0.85      0.86      2000\n",
      "weighted avg       0.87      0.87      0.87      2000\n",
      "\n",
      "Akurasi: 0.8655\n",
      "AUC score: 0.9538777643573858\n"
     ]
    },
    {
     "name": "stderr",
     "output_type": "stream",
     "text": [
      "/Users/fahmimn21/miniforge3/lib/python3.9/site-packages/sklearn/linear_model/_sag.py:328: ConvergenceWarning: The max_iter was reached which means the coef_ did not converge\n",
      "  warnings.warn(\"The max_iter was reached which means \"\n"
     ]
    }
   ],
   "source": [
    "from sklearn.linear_model import LogisticRegression\n",
    "best_LogR=GridSearchCV(LogisticRegression(),{'penalty':['l1','l2','elasticnet'],'solver':['newton-cg','lbfgs','liblinear','sag','saga']},cv=10,n_jobs=4,verbose=4)\n",
    "best_LogR.fit(X_train,y_train)\n",
    "LogR=LogisticRegression(penalty=best_LogR.best_params_['penalty'],solver=best_LogR.best_params_['solver'])\n",
    "LogR.fit(X_train,y_train)\n",
    "y_pred_LogR=LogR.predict(X_test)\n",
    "print(classification_report(y_test,y_pred_LogR))\n",
    "print('Akurasi:',accuracy_score(y_test,y_pred_LogR))\n",
    "print ('AUC score:',roc_auc_score(y_test,LogR.predict_proba(X_test),multi_class='ovo'))"
   ]
  },
  {
   "cell_type": "markdown",
   "id": "484e3b6b",
   "metadata": {},
   "source": [
    "### Support Vector Classifier (SVC)"
   ]
  },
  {
   "cell_type": "code",
   "execution_count": 20,
   "id": "eaba1b6c",
   "metadata": {},
   "outputs": [
    {
     "name": "stdout",
     "output_type": "stream",
     "text": [
      "Fitting 10 folds for each of 4 candidates, totalling 40 fits\n",
      "              precision    recall  f1-score   support\n",
      "\n",
      "          -1       0.93      0.80      0.86       518\n",
      "           0       0.82      0.94      0.88       935\n",
      "           1       0.94      0.84      0.89       547\n",
      "\n",
      "    accuracy                           0.88      2000\n",
      "   macro avg       0.90      0.86      0.88      2000\n",
      "weighted avg       0.88      0.88      0.88      2000\n",
      "\n",
      "Akurasi: 0.877\n",
      "AUC score: 0.9566597305816575\n"
     ]
    }
   ],
   "source": [
    "from sklearn.svm import SVC\n",
    "best_SVC=GridSearchCV(SVC(),{'kernel':['linear','poly','rbf','sigmoid']},cv=10,n_jobs=4,verbose=4)\n",
    "best_SVC.fit(X_train,y_train)\n",
    "SVC_=SVC(kernel=best_SVC.best_params_['kernel'],probability=True)\n",
    "SVC_.fit(X_train,y_train)\n",
    "y_pred_SVC=SVC_.predict(X_test)\n",
    "print(classification_report(y_test,y_pred_SVC))\n",
    "print('Akurasi:',accuracy_score(y_test,y_pred_SVC))\n",
    "print ('AUC score:',roc_auc_score(y_test,SVC_.predict_proba(X_test),multi_class='ovo'))"
   ]
  },
  {
   "cell_type": "markdown",
   "id": "de5770d6",
   "metadata": {},
   "source": [
    "### Artificial Neural Network"
   ]
  },
  {
   "cell_type": "code",
   "execution_count": 21,
   "id": "593330d6",
   "metadata": {},
   "outputs": [
    {
     "name": "stdout",
     "output_type": "stream",
     "text": [
      "Fitting 10 folds for each of 36 candidates, totalling 360 fits\n"
     ]
    },
    {
     "name": "stderr",
     "output_type": "stream",
     "text": [
      "/Users/fahmimn21/miniforge3/lib/python3.9/site-packages/sklearn/neural_network/_multilayer_perceptron.py:614: ConvergenceWarning: Stochastic Optimizer: Maximum iterations (200) reached and the optimization hasn't converged yet.\n",
      "  warnings.warn(\n"
     ]
    },
    {
     "name": "stdout",
     "output_type": "stream",
     "text": [
      "              precision    recall  f1-score   support\n",
      "\n",
      "          -1       0.86      0.85      0.86       518\n",
      "           0       0.86      0.86      0.86       935\n",
      "           1       0.86      0.88      0.87       547\n",
      "\n",
      "    accuracy                           0.86      2000\n",
      "   macro avg       0.86      0.86      0.86      2000\n",
      "weighted avg       0.86      0.86      0.86      2000\n",
      "\n",
      "Akurasi: 0.862\n",
      "AUC score: 0.9576136231367977\n"
     ]
    },
    {
     "name": "stderr",
     "output_type": "stream",
     "text": [
      "/Users/fahmimn21/miniforge3/lib/python3.9/site-packages/sklearn/neural_network/_multilayer_perceptron.py:614: ConvergenceWarning: Stochastic Optimizer: Maximum iterations (200) reached and the optimization hasn't converged yet.\n",
      "  warnings.warn(\n"
     ]
    }
   ],
   "source": [
    "from sklearn.neural_network import MLPClassifier\n",
    "best_MLP=GridSearchCV(MLPClassifier(),{'activation':['identity','logistic','tanh','relu'],'solver':['lbfgs','sgd','adam'],'learning_rate':['constant','invscaling','adaptive']},cv=10,n_jobs=4,verbose=4)\n",
    "best_MLP.fit(X_train,y_train)\n",
    "MLP=MLPClassifier(activation=best_MLP.best_params_['activation'],solver=best_MLP.best_params_['solver'],learning_rate=best_MLP.best_params_['learning_rate'])\n",
    "MLP.fit(X_train,y_train)\n",
    "y_pred_MLP=MLP.predict(X_test)\n",
    "print(classification_report(y_test,y_pred_MLP))\n",
    "print('Akurasi:',accuracy_score(y_test,y_pred_MLP))\n",
    "print ('AUC score:',roc_auc_score(y_test,MLP.predict_proba(X_test),multi_class='ovo'))"
   ]
  },
  {
   "cell_type": "markdown",
   "id": "ec7a2a01",
   "metadata": {},
   "source": [
    "### K-Neighrest Neighbors"
   ]
  },
  {
   "cell_type": "code",
   "execution_count": 22,
   "id": "370134e7",
   "metadata": {},
   "outputs": [
    {
     "name": "stdout",
     "output_type": "stream",
     "text": [
      "Fitting 10 folds for each of 194 candidates, totalling 1940 fits\n",
      "              precision    recall  f1-score   support\n",
      "\n",
      "          -1       0.94      0.73      0.82       518\n",
      "           0       0.76      0.95      0.84       935\n",
      "           1       0.94      0.74      0.83       547\n",
      "\n",
      "    accuracy                           0.83      2000\n",
      "   macro avg       0.88      0.81      0.83      2000\n",
      "weighted avg       0.85      0.83      0.83      2000\n",
      "\n",
      "Akurasi: 0.834\n",
      "AUC score: 0.9516669103802129\n"
     ]
    }
   ],
   "source": [
    "from sklearn.neighbors import KNeighborsClassifier\n",
    "best_KNN=GridSearchCV(KNeighborsClassifier(),{'n_neighbors':list(range(3,100)),'weights':['uniform','distance']},cv=10,n_jobs=4,verbose=4)\n",
    "best_KNN.fit(X_train,y_train)\n",
    "KNN=KNeighborsClassifier(n_neighbors=best_KNN.best_params_['n_neighbors'],weights=best_KNN.best_params_['weights'])\n",
    "KNN.fit(X_train,y_train)\n",
    "y_pred_KNN=KNN.predict(X_test)\n",
    "print(classification_report(y_test,y_pred_KNN))\n",
    "print('Akurasi:',accuracy_score(y_test,y_pred_KNN))\n",
    "print ('AUC score:',roc_auc_score(y_test,KNN.predict_proba(X_test),multi_class='ovo'))"
   ]
  },
  {
   "cell_type": "markdown",
   "id": "07d9f012",
   "metadata": {},
   "source": [
    "### Model yang terbaik adalah model yang akurasinya paling besar, presisi tiap kelas tidak begitu jauh perbedaannya dan AUC score paling mendekati 1 sehingga dipilih Artificial Neural Network\n",
    "\n",
    "# Prediksi data dengan model ANN"
   ]
  },
  {
   "cell_type": "code",
   "execution_count": 23,
   "id": "7bb56f37",
   "metadata": {},
   "outputs": [],
   "source": [
    "X=data['text'].apply(lambda x: proc_feature(x)) #Filter karakter dan beberapa kata\n",
    "X=X.apply(lambda x: ' '.join([item for item in x.split(' ') if item not in stp_word])) #Penghapusan stopwords tiap tweet\n",
    "X=CountVectorizer(max_features=700).fit_transform(X).toarray() #Ubah kalimat menjadi vektor\n",
    "X=tfid.fit_transform(X).toarray() #Konversi kata menjadi angka"
   ]
  },
  {
   "cell_type": "code",
   "execution_count": 24,
   "id": "198b9c5b",
   "metadata": {},
   "outputs": [],
   "source": [
    "data['sentimen']=MLP.predict(X) #Memprediksi data keseluruhan"
   ]
  },
  {
   "cell_type": "code",
   "execution_count": 25,
   "id": "5657b4e0",
   "metadata": {},
   "outputs": [
    {
     "data": {
      "text/plain": [
       "<AxesSubplot:>"
      ]
     },
     "execution_count": 25,
     "metadata": {},
     "output_type": "execute_result"
    },
    {
     "data": {
      "image/png": "[encoded data removed]",
      "text/plain": [
       "<Figure size 432x288 with 1 Axes>"
      ]
     },
     "metadata": {
      "needs_background": "light"
     },
     "output_type": "display_data"
    }
   ],
   "source": [
    "data['sentimen'].replace({-1:'Negatif',0:'Netral',1:'Positif'}).value_counts().plot(kind='bar') #Mengganti sentiment sign ke kategori"
   ]
  },
  {
   "cell_type": "markdown",
   "id": "04bcee16",
   "metadata": {},
   "source": [
    "# Analisa Data"
   ]
  },
  {
   "cell_type": "code",
   "execution_count": 26,
   "id": "4382963b",
   "metadata": {},
   "outputs": [],
   "source": [
    "data['sentimen']=data['sentimen'].replace({-1:'Negatif',0:'Netral',1:'Positif'})"
   ]
  },
  {
   "cell_type": "code",
   "execution_count": 27,
   "id": "59317db9",
   "metadata": {},
   "outputs": [
    {
     "data": {
      "text/plain": [
       "<AxesSubplot:title={'center':'Analisa Sentimen Tweet Keyword: PPKM'}, ylabel='sentimen'>"
      ]
     },
     "execution_count": 27,
     "metadata": {},
     "output_type": "execute_result"
    },
    {
     "data": {
      "image/png": "[encoded data removed]",
      "text/plain": [
       "<Figure size 1152x576 with 1 Axes>"
      ]
     },
     "metadata": {},
     "output_type": "display_data"
    }
   ],
   "source": [
    "data['sentimen'].value_counts().plot(kind='pie',figsize=(16,8),autopct='%1.1f%%',title='Analisa Sentimen Tweet Keyword: PPKM')"
   ]
  },
  {
   "cell_type": "code",
   "execution_count": 31,
   "id": "09b13675",
   "metadata": {},
   "outputs": [],
   "source": [
    "data['processed']=data['text'].apply(lambda x: proc_feature(x))\n",
    "data['processed']=data['processed'].apply(lambda x: ' '.join([item for item in x.split(' ') if item not in stp_word]))"
   ]
  },
  {
   "cell_type": "code",
   "execution_count": 41,
   "id": "77cdb006",
   "metadata": {},
   "outputs": [],
   "source": [
    "#Definisi list kata-kata yang berada di tweet pada masing2 kategori\n",
    "netral_words=[]\n",
    "positif_words=[]\n",
    "negatif_words=[]\n",
    "\n",
    "#Memasukkan kata-kata yang berada pada semua tweet untu masing-masing kategori\n",
    "for txt in data['processed'][data['sentimen']=='Netral']:\n",
    "    for wrd in txt.split(' '):\n",
    "        netral_words.append(wrd)\n",
    "\n",
    "for txt in data['processed'][data['sentimen']=='Positif']:\n",
    "    for wrd in txt.split(' '):\n",
    "        positif_words.append(wrd)\n",
    "        \n",
    "for txt in data['processed'][data['sentimen']=='Negatif']:\n",
    "    for wrd in txt.split(' '):\n",
    "        negatif_words.append(wrd)\n",
    "\n",
    "#mengubah list menjadi pandas Series dan menghilangkan string kosong ''\n",
    "netral_wd=pd.Series(netral_words)[pd.Series(netral_words)!='']\n",
    "positif_wd=pd.Series(positif_words)[pd.Series(positif_words)!='']\n",
    "negatif_wd=pd.Series(negatif_words)[pd.Series(negatif_words)!='']"
   ]
  },
  {
   "cell_type": "code",
   "execution_count": 47,
   "id": "c3d5ca96",
   "metadata": {},
   "outputs": [
    {
     "data": {
      "text/plain": [
       "<AxesSubplot:title={'center':'Top 40 Kata pada Sentimen Netral'}>"
      ]
     },
     "execution_count": 47,
     "metadata": {},
     "output_type": "execute_result"
    },
    {
     "data": {
      "image/png": "[encoded data removed]",
      "text/plain": [
       "<Figure size 1152x576 with 1 Axes>"
      ]
     },
     "metadata": {
      "needs_background": "light"
     },
     "output_type": "display_data"
    }
   ],
   "source": [
    "netral_wd.value_counts()[:40].plot(kind='bar',title='Top 40 Kata pada Sentimen Netral',figsize=(16,8))"
   ]
  },
  {
   "cell_type": "code",
   "execution_count": 48,
   "id": "e27e123f",
   "metadata": {},
   "outputs": [
    {
     "data": {
      "text/plain": [
       "<AxesSubplot:title={'center':'Top 40 Kata pada Sentimen Positif'}>"
      ]
     },
     "execution_count": 48,
     "metadata": {},
     "output_type": "execute_result"
    },
    {
     "data": {
      "image/png": "[encoded data removed]",
      "text/plain": [
       "<Figure size 1152x576 with 1 Axes>"
      ]
     },
     "metadata": {
      "needs_background": "light"
     },
     "output_type": "display_data"
    }
   ],
   "source": [
    "positif_wd.value_counts()[:40].plot(kind='bar',title='Top 40 Kata pada Sentimen Positif',figsize=(16,8))"
   ]
  },
  {
   "cell_type": "code",
   "execution_count": 49,
   "id": "f3dccc0b",
   "metadata": {},
   "outputs": [
    {
     "data": {
      "text/plain": [
       "<AxesSubplot:title={'center':'Top 40 Kata pada Sentimen Negatif'}>"
      ]
     },
     "execution_count": 49,
     "metadata": {},
     "output_type": "execute_result"
    },
    {
     "data": {
      "image/png": "[encoded data removed]",
      "text/plain": [
       "<Figure size 1152x576 with 1 Axes>"
      ]
     },
     "metadata": {
      "needs_background": "light"
     },
     "output_type": "display_data"
    }
   ],
   "source": [
    "negatif_wd.value_counts()[:40].plot(kind='bar',title='Top 40 Kata pada Sentimen Negatif',figsize=(16,8))"
   ]
  },
  {
   "cell_type": "code",
   "execution_count": 83,
   "id": "42169274",
   "metadata": {},
   "outputs": [],
   "source": [
    "#Pengambilan nama daerah pada kolom place karena bentuk data place berupa xml\n",
    "data['city']=data['place'].dropna().apply(lambda x: x.split(', ')[4][5:])"
   ]
  },
  {
   "cell_type": "code",
   "execution_count": 91,
   "id": "9a972ced",
   "metadata": {},
   "outputs": [
    {
     "data": {
      "text/plain": [
       "<AxesSubplot:title={'center':'10 Top Daerah dengan Sentimen Negatif'}>"
      ]
     },
     "execution_count": 91,
     "metadata": {},
     "output_type": "execute_result"
    },
    {
     "data": {
      "image/png": "[encoded data removed]",
      "text/plain": [
       "<Figure size 432x288 with 1 Axes>"
      ]
     },
     "metadata": {
      "needs_background": "light"
     },
     "output_type": "display_data"
    }
   ],
   "source": [
    "data[data['sentimen']=='Negatif']['city'].value_counts()[:10].plot(kind='bar',title='10 Top Daerah dengan Sentimen Negatif')"
   ]
  },
  {
   "cell_type": "code",
   "execution_count": 93,
   "id": "e29a45c7",
   "metadata": {},
   "outputs": [
    {
     "data": {
      "text/plain": [
       "<AxesSubplot:title={'center':'10 Top Daerah dengan Sentimen Positif'}>"
      ]
     },
     "execution_count": 93,
     "metadata": {},
     "output_type": "execute_result"
    },
    {
     "data": {
      "image/png": "[encoded data removed]",
      "text/plain": [
       "<Figure size 432x288 with 1 Axes>"
      ]
     },
     "metadata": {
      "needs_background": "light"
     },
     "output_type": "display_data"
    }
   ],
   "source": [
    "data[data['sentimen']=='Positif']['city'].value_counts()[:10].plot(kind='bar',title='10 Top Daerah dengan Sentimen Positif')"
   ]
  },
  {
   "cell_type": "code",
   "execution_count": 94,
   "id": "5b55aa64",
   "metadata": {},
   "outputs": [
    {
     "data": {
      "text/plain": [
       "<AxesSubplot:title={'center':'10 Top Daerah dengan Sentimen Netral'}>"
      ]
     },
     "execution_count": 94,
     "metadata": {},
     "output_type": "execute_result"
    },
    {
     "data": {
      "image/png": "[encoded data removed]",
      "text/plain": [
       "<Figure size 432x288 with 1 Axes>"
      ]
     },
     "metadata": {
      "needs_background": "light"
     },
     "output_type": "display_data"
    }
   ],
   "source": [
    "data[data['sentimen']=='Netral']['city'].value_counts()[:10].plot(kind='bar',title='10 Top Daerah dengan Sentimen Netral')"
   ]
  },
  {
   "cell_type": "code",
   "execution_count": 98,
   "id": "7c65909e",
   "metadata": {},
   "outputs": [
    {
     "data": {
      "text/plain": [
       "<AxesSubplot:title={'center':'Retweet'}, xlabel='sentimen'>"
      ]
     },
     "execution_count": 98,
     "metadata": {},
     "output_type": "execute_result"
    },
    {
     "data": {
      "image/png": "[encoded data removed]",
      "text/plain": [
       "<Figure size 432x288 with 1 Axes>"
      ]
     },
     "metadata": {
      "needs_background": "light"
     },
     "output_type": "display_data"
    }
   ],
   "source": [
    "data.groupby('sentimen').sum()['rt'].plot(kind='bar',color='red',title='Retweet')"
   ]
  },
  {
   "cell_type": "code",
   "execution_count": 126,
   "id": "40709ad0",
   "metadata": {},
   "outputs": [
    {
     "data": {
      "text/plain": [
       "<AxesSubplot:title={'center':'Favorite'}, xlabel='sentimen'>"
      ]
     },
     "execution_count": 126,
     "metadata": {},
     "output_type": "execute_result"
    },
    {
     "data": {
      "image/png": "[encoded data removed]",
      "text/plain": [
       "<Figure size 432x288 with 1 Axes>"
      ]
     },
     "metadata": {
      "needs_background": "light"
     },
     "output_type": "display_data"
    }
   ],
   "source": [
    "data.groupby('sentimen').sum()['fav'].plot(kind='bar',color='green',title='Favorite')"
   ]
  },
  {
   "cell_type": "markdown",
   "id": "708741cc",
   "metadata": {},
   "source": [
    "## Top 3 Tweet Berdasarkan Jumlah Retweet"
   ]
  },
  {
   "cell_type": "markdown",
   "id": "c12ddb6c",
   "metadata": {},
   "source": [
    "### Top 3 Tweet yang paling banyak diretweet untuk kategori negatif"
   ]
  },
  {
   "cell_type": "code",
   "execution_count": 119,
   "id": "2d8defe0",
   "metadata": {},
   "outputs": [
    {
     "name": "stdout",
     "output_type": "stream",
     "text": [
      "geh! besok kan lampung ppkm darurat, nah itu mksdnya gmn ya? semua toko tutup dan jalanan ditutup atau gmn? sorry jgn salty ya beneran gtau\n",
      "\n",
      "setelah 2 minggu sakit malah ppkm sialan\n",
      "\n",
      "Jangan pedagang kiecil aja yg dirazia, tuh pedagang vaksin juga razia\n",
      "\n",
      "Heboh! Razia PPKM, Video Pedagang Amuk Polis… https://t.co/MNeGTYJ0t4\n"
     ]
    }
   ],
   "source": [
    "print(data[data['sentimen']=='Negatif'].sort_values(by='rt')['text'].iloc[0],end='\\n\\n')\n",
    "print(data[data['sentimen']=='Negatif'].sort_values(by='rt')['text'].iloc[1],end='\\n\\n')\n",
    "print(data[data['sentimen']=='Negatif'].sort_values(by='rt')['text'].iloc[2])"
   ]
  },
  {
   "cell_type": "markdown",
   "id": "8cfa9859",
   "metadata": {},
   "source": [
    "### Top 3 Tweet yang paling banyak diretweet untuk kategori netral"
   ]
  },
  {
   "cell_type": "code",
   "execution_count": 120,
   "id": "60376447",
   "metadata": {},
   "outputs": [
    {
     "name": "stdout",
     "output_type": "stream",
     "text": [
      "https://t.co/TUSTFo80j0\n",
      "\n",
      "Beneran nih pak @jokowi\n",
      "\n",
      "@RahayuSaraswath @JogjaUpdate Iya mbak, di tempatku satu RT oleh PPKM RT yang isoman dibuatkan WAG, supaya bisa mem… https://t.co/c2nby8MzZy\n",
      "\n",
      "PPKM: Para Pejabat Koruptor Milyaran\n"
     ]
    }
   ],
   "source": [
    "print(data[data['sentimen']=='Netral'].sort_values(by='rt')['text'].iloc[0],end='\\n\\n')\n",
    "print(data[data['sentimen']=='Netral'].sort_values(by='rt')['text'].iloc[1],end='\\n\\n')\n",
    "print(data[data['sentimen']=='Netral'].sort_values(by='rt')['text'].iloc[2])"
   ]
  },
  {
   "cell_type": "markdown",
   "id": "20086d9b",
   "metadata": {},
   "source": [
    "### Top 3 Tweet yang paling banyak diretweet untuk kategori positif"
   ]
  },
  {
   "cell_type": "code",
   "execution_count": 122,
   "id": "a0bd67ee",
   "metadata": {
    "scrolled": true
   },
   "outputs": [
    {
     "name": "stdout",
     "output_type": "stream",
     "text": [
      "Bosen nih baru pindah ke Depok malah PPKM, mana belum punya teman sekitar sini, haduh\n",
      "\n",
      "Penerapan PPKM di beberapa wilayah kejam banget y, iy tau niatnya baik spy Indonesia bs lepas dr pandemi. Tp bisa g… https://t.co/v9gaXYjxlZ\n",
      "\n",
      "@jetsilvers @Smsl_alghozali Kesepakatan MUI, dan demi PPKM, kita usulkan untuk juara bersama Om😔\n"
     ]
    }
   ],
   "source": [
    "print(data[data['sentimen']=='Positif'].sort_values(by='rt')['text'].iloc[0],end='\\n\\n')\n",
    "print(data[data['sentimen']=='Positif'].sort_values(by='rt')['text'].iloc[1],end='\\n\\n')\n",
    "print(data[data['sentimen']=='Positif'].sort_values(by='rt')['text'].iloc[2])"
   ]
  },
  {
   "cell_type": "markdown",
   "id": "3278b46f",
   "metadata": {},
   "source": [
    "## Top 3 Tweet Berdasarkan Jumlah Favorite"
   ]
  },
  {
   "cell_type": "markdown",
   "id": "ce6613ab",
   "metadata": {},
   "source": [
    "### Top 3 Tweet yang paling banyak dilike untuk kategori negatif"
   ]
  },
  {
   "cell_type": "code",
   "execution_count": 123,
   "id": "c291eef3",
   "metadata": {},
   "outputs": [
    {
     "name": "stdout",
     "output_type": "stream",
     "text": [
      "RT @utaskala: Ppkm: Plenga plongo kaya monyet https://t.co/uQtJOxMIxf\n",
      "\n",
      "PPKM bikin gunung\" pada tutup. Tapi bukan pendaki namanya kalo ga bisa survive dalam medan apapun.\n",
      "\n",
      "RT @zarezarezareza: Hati hati yaa lagi ppkm gini amankan keluarga kalian dari broadcast wa bantuan ppkm, nanti datanya buat pinjol.\n"
     ]
    }
   ],
   "source": [
    "print(data[data['sentimen']=='Negatif'].sort_values(by='fav')['text'].iloc[0],end='\\n\\n')\n",
    "print(data[data['sentimen']=='Negatif'].sort_values(by='fav')['text'].iloc[1],end='\\n\\n')\n",
    "print(data[data['sentimen']=='Negatif'].sort_values(by='fav')['text'].iloc[2])"
   ]
  },
  {
   "cell_type": "markdown",
   "id": "b48a46b8",
   "metadata": {},
   "source": [
    "### Top 3 Tweet yang paling banyak dilike untuk kategori netral"
   ]
  },
  {
   "cell_type": "code",
   "execution_count": 124,
   "id": "1feb2a84",
   "metadata": {},
   "outputs": [
    {
     "name": "stdout",
     "output_type": "stream",
     "text": [
      "https://t.co/TUSTFo80j0\n",
      "\n",
      "Beneran nih pak @jokowi\n",
      "\n",
      "RT @TeddyGusnaidi: MUI Sumbar Tolak Peniadaan Ibadah di Masjid saat PPKM, Teddy Gusnaidi: Bubarkan LSM Model Beginian https://t.co/9LVmLdoP…\n",
      "\n",
      "@syandiego Maaf saya taunya PPKM mas 🙏\n"
     ]
    }
   ],
   "source": [
    "print(data[data['sentimen']=='Netral'].sort_values(by='fav')['text'].iloc[0],end='\\n\\n')\n",
    "print(data[data['sentimen']=='Netral'].sort_values(by='fav')['text'].iloc[1],end='\\n\\n')\n",
    "print(data[data['sentimen']=='Netral'].sort_values(by='fav')['text'].iloc[2])"
   ]
  },
  {
   "cell_type": "markdown",
   "id": "bee208d0",
   "metadata": {},
   "source": [
    "### Top 3 Tweet yang paling banyak dilike untuk kategori positif"
   ]
  },
  {
   "cell_type": "code",
   "execution_count": 125,
   "id": "8b2e45d5",
   "metadata": {
    "scrolled": true
   },
   "outputs": [
    {
     "name": "stdout",
     "output_type": "stream",
     "text": [
      "RT @Pencerah__: Saya heran sama sebagian masyarakat Indonesia. Mereka ingin pandemi berakhir, ingin beribadah secara jamaah dan berdagang n…\n",
      "\n",
      "RT @RD_4WR1212: SURABAYA KENJERAN KISRUH Operasi PPKM darurat di Bulak Banteng, Kenjeran, Surabaya berlangsung ricuh semalam. Kericuhan ter…\n",
      "\n",
      "RT @maspiyuaja: Sempat Bantah Anies, PT Equity Life Indonesia Akhirnya Akui Melanggar PPKM Darurat https://t.co/1xx2lr94EV https://t.co/ONp…\n"
     ]
    }
   ],
   "source": [
    "print(data[data['sentimen']=='Positif'].sort_values(by='fav')['text'].iloc[0],end='\\n\\n')\n",
    "print(data[data['sentimen']=='Positif'].sort_values(by='fav')['text'].iloc[1],end='\\n\\n')\n",
    "print(data[data['sentimen']=='Positif'].sort_values(by='fav')['text'].iloc[2])"
   ]
  }
 ],
 "metadata": {
  "kernelspec": {
   "display_name": "Python 3",
   "language": "python",
   "name": "python3"
  },
  "language_info": {
   "codemirror_mode": {
    "name": "ipython",
    "version": 3
   },
   "file_extension": ".py",
   "mimetype": "text/x-python",
   "name": "python",
   "nbconvert_exporter": "python",
   "pygments_lexer": "ipython3",
   "version": "3.9.5"
  }
 },
 "nbformat": 4,
 "nbformat_minor": 5
}
